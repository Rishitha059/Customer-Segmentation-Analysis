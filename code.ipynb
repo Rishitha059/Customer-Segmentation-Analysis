{
 "cells": [
  {
   "cell_type": "markdown",
   "metadata": {
    "id": "1cr3SpH9LUyI"
   },
   "source": [
    "# **Project Title: Customer Segmentation Analysis using K-Means Clustering Algorithm**"
   ]
  },
  {
   "cell_type": "markdown",
   "metadata": {
    "id": "gRqQaCpfLJUV"
   },
   "source": [
    "**Done BY:-**\n",
    "\n",
    "- RISHITHA KANCHARLA -AP21110010059"
   ]
  },
  {
   "cell_type": "markdown",
   "metadata": {
    "id": "Vg1ndP1SL5qR"
   },
   "source": [
    "### **Libraries imports**"
   ]
  },
  {
   "cell_type": "code",
   "execution_count": 5,
   "metadata": {
    "id": "p4-E9kjtK_Qb"
   },
   "outputs": [],
   "source": [
    "import numpy as np\n",
    "import pandas as pd\n",
    "import matplotlib.pyplot as plt\n",
    "import seaborn as sns"
   ]
  },
  {
   "cell_type": "markdown",
   "metadata": {
    "id": "cyxx_Yo-ME_o"
   },
   "source": [
    "### **Explore the dataset**"
   ]
  },
  {
   "cell_type": "code",
   "execution_count": 6,
   "metadata": {
    "colab": {
     "base_uri": "https://localhost:8080/",
     "height": 206
    },
    "id": "kidTdfHiMKvl",
    "outputId": "80be5868-0c7a-40e7-9ba0-3358e3f283d8"
   },
   "outputs": [
    {
     "ename": "FileNotFoundError",
     "evalue": "[Errno 2] No such file or directory: 'Mall_Customers.csv'",
     "output_type": "error",
     "traceback": [
      "\u001b[1;31m---------------------------------------------------------------------------\u001b[0m",
      "\u001b[1;31mFileNotFoundError\u001b[0m                         Traceback (most recent call last)",
      "Input \u001b[1;32mIn [6]\u001b[0m, in \u001b[0;36m<cell line: 1>\u001b[1;34m()\u001b[0m\n\u001b[1;32m----> 1\u001b[0m df \u001b[38;5;241m=\u001b[39m \u001b[43mpd\u001b[49m\u001b[38;5;241;43m.\u001b[39;49m\u001b[43mread_csv\u001b[49m\u001b[43m(\u001b[49m\u001b[38;5;124;43m'\u001b[39;49m\u001b[38;5;124;43mMall_Customers.csv\u001b[39;49m\u001b[38;5;124;43m'\u001b[39;49m\u001b[43m)\u001b[49m\n\u001b[0;32m      2\u001b[0m df\u001b[38;5;241m.\u001b[39mhead()\n",
      "File \u001b[1;32m~\\anaconda3\\lib\\site-packages\\pandas\\util\\_decorators.py:311\u001b[0m, in \u001b[0;36mdeprecate_nonkeyword_arguments.<locals>.decorate.<locals>.wrapper\u001b[1;34m(*args, **kwargs)\u001b[0m\n\u001b[0;32m    305\u001b[0m \u001b[38;5;28;01mif\u001b[39;00m \u001b[38;5;28mlen\u001b[39m(args) \u001b[38;5;241m>\u001b[39m num_allow_args:\n\u001b[0;32m    306\u001b[0m     warnings\u001b[38;5;241m.\u001b[39mwarn(\n\u001b[0;32m    307\u001b[0m         msg\u001b[38;5;241m.\u001b[39mformat(arguments\u001b[38;5;241m=\u001b[39marguments),\n\u001b[0;32m    308\u001b[0m         \u001b[38;5;167;01mFutureWarning\u001b[39;00m,\n\u001b[0;32m    309\u001b[0m         stacklevel\u001b[38;5;241m=\u001b[39mstacklevel,\n\u001b[0;32m    310\u001b[0m     )\n\u001b[1;32m--> 311\u001b[0m \u001b[38;5;28;01mreturn\u001b[39;00m func(\u001b[38;5;241m*\u001b[39margs, \u001b[38;5;241m*\u001b[39m\u001b[38;5;241m*\u001b[39mkwargs)\n",
      "File \u001b[1;32m~\\anaconda3\\lib\\site-packages\\pandas\\io\\parsers\\readers.py:680\u001b[0m, in \u001b[0;36mread_csv\u001b[1;34m(filepath_or_buffer, sep, delimiter, header, names, index_col, usecols, squeeze, prefix, mangle_dupe_cols, dtype, engine, converters, true_values, false_values, skipinitialspace, skiprows, skipfooter, nrows, na_values, keep_default_na, na_filter, verbose, skip_blank_lines, parse_dates, infer_datetime_format, keep_date_col, date_parser, dayfirst, cache_dates, iterator, chunksize, compression, thousands, decimal, lineterminator, quotechar, quoting, doublequote, escapechar, comment, encoding, encoding_errors, dialect, error_bad_lines, warn_bad_lines, on_bad_lines, delim_whitespace, low_memory, memory_map, float_precision, storage_options)\u001b[0m\n\u001b[0;32m    665\u001b[0m kwds_defaults \u001b[38;5;241m=\u001b[39m _refine_defaults_read(\n\u001b[0;32m    666\u001b[0m     dialect,\n\u001b[0;32m    667\u001b[0m     delimiter,\n\u001b[1;32m   (...)\u001b[0m\n\u001b[0;32m    676\u001b[0m     defaults\u001b[38;5;241m=\u001b[39m{\u001b[38;5;124m\"\u001b[39m\u001b[38;5;124mdelimiter\u001b[39m\u001b[38;5;124m\"\u001b[39m: \u001b[38;5;124m\"\u001b[39m\u001b[38;5;124m,\u001b[39m\u001b[38;5;124m\"\u001b[39m},\n\u001b[0;32m    677\u001b[0m )\n\u001b[0;32m    678\u001b[0m kwds\u001b[38;5;241m.\u001b[39mupdate(kwds_defaults)\n\u001b[1;32m--> 680\u001b[0m \u001b[38;5;28;01mreturn\u001b[39;00m \u001b[43m_read\u001b[49m\u001b[43m(\u001b[49m\u001b[43mfilepath_or_buffer\u001b[49m\u001b[43m,\u001b[49m\u001b[43m \u001b[49m\u001b[43mkwds\u001b[49m\u001b[43m)\u001b[49m\n",
      "File \u001b[1;32m~\\anaconda3\\lib\\site-packages\\pandas\\io\\parsers\\readers.py:575\u001b[0m, in \u001b[0;36m_read\u001b[1;34m(filepath_or_buffer, kwds)\u001b[0m\n\u001b[0;32m    572\u001b[0m _validate_names(kwds\u001b[38;5;241m.\u001b[39mget(\u001b[38;5;124m\"\u001b[39m\u001b[38;5;124mnames\u001b[39m\u001b[38;5;124m\"\u001b[39m, \u001b[38;5;28;01mNone\u001b[39;00m))\n\u001b[0;32m    574\u001b[0m \u001b[38;5;66;03m# Create the parser.\u001b[39;00m\n\u001b[1;32m--> 575\u001b[0m parser \u001b[38;5;241m=\u001b[39m TextFileReader(filepath_or_buffer, \u001b[38;5;241m*\u001b[39m\u001b[38;5;241m*\u001b[39mkwds)\n\u001b[0;32m    577\u001b[0m \u001b[38;5;28;01mif\u001b[39;00m chunksize \u001b[38;5;129;01mor\u001b[39;00m iterator:\n\u001b[0;32m    578\u001b[0m     \u001b[38;5;28;01mreturn\u001b[39;00m parser\n",
      "File \u001b[1;32m~\\anaconda3\\lib\\site-packages\\pandas\\io\\parsers\\readers.py:933\u001b[0m, in \u001b[0;36mTextFileReader.__init__\u001b[1;34m(self, f, engine, **kwds)\u001b[0m\n\u001b[0;32m    930\u001b[0m     \u001b[38;5;28mself\u001b[39m\u001b[38;5;241m.\u001b[39moptions[\u001b[38;5;124m\"\u001b[39m\u001b[38;5;124mhas_index_names\u001b[39m\u001b[38;5;124m\"\u001b[39m] \u001b[38;5;241m=\u001b[39m kwds[\u001b[38;5;124m\"\u001b[39m\u001b[38;5;124mhas_index_names\u001b[39m\u001b[38;5;124m\"\u001b[39m]\n\u001b[0;32m    932\u001b[0m \u001b[38;5;28mself\u001b[39m\u001b[38;5;241m.\u001b[39mhandles: IOHandles \u001b[38;5;241m|\u001b[39m \u001b[38;5;28;01mNone\u001b[39;00m \u001b[38;5;241m=\u001b[39m \u001b[38;5;28;01mNone\u001b[39;00m\n\u001b[1;32m--> 933\u001b[0m \u001b[38;5;28mself\u001b[39m\u001b[38;5;241m.\u001b[39m_engine \u001b[38;5;241m=\u001b[39m \u001b[38;5;28;43mself\u001b[39;49m\u001b[38;5;241;43m.\u001b[39;49m\u001b[43m_make_engine\u001b[49m\u001b[43m(\u001b[49m\u001b[43mf\u001b[49m\u001b[43m,\u001b[49m\u001b[43m \u001b[49m\u001b[38;5;28;43mself\u001b[39;49m\u001b[38;5;241;43m.\u001b[39;49m\u001b[43mengine\u001b[49m\u001b[43m)\u001b[49m\n",
      "File \u001b[1;32m~\\anaconda3\\lib\\site-packages\\pandas\\io\\parsers\\readers.py:1217\u001b[0m, in \u001b[0;36mTextFileReader._make_engine\u001b[1;34m(self, f, engine)\u001b[0m\n\u001b[0;32m   1213\u001b[0m     mode \u001b[38;5;241m=\u001b[39m \u001b[38;5;124m\"\u001b[39m\u001b[38;5;124mrb\u001b[39m\u001b[38;5;124m\"\u001b[39m\n\u001b[0;32m   1214\u001b[0m \u001b[38;5;66;03m# error: No overload variant of \"get_handle\" matches argument types\u001b[39;00m\n\u001b[0;32m   1215\u001b[0m \u001b[38;5;66;03m# \"Union[str, PathLike[str], ReadCsvBuffer[bytes], ReadCsvBuffer[str]]\"\u001b[39;00m\n\u001b[0;32m   1216\u001b[0m \u001b[38;5;66;03m# , \"str\", \"bool\", \"Any\", \"Any\", \"Any\", \"Any\", \"Any\"\u001b[39;00m\n\u001b[1;32m-> 1217\u001b[0m \u001b[38;5;28mself\u001b[39m\u001b[38;5;241m.\u001b[39mhandles \u001b[38;5;241m=\u001b[39m \u001b[43mget_handle\u001b[49m\u001b[43m(\u001b[49m\u001b[43m  \u001b[49m\u001b[38;5;66;43;03m# type: ignore[call-overload]\u001b[39;49;00m\n\u001b[0;32m   1218\u001b[0m \u001b[43m    \u001b[49m\u001b[43mf\u001b[49m\u001b[43m,\u001b[49m\n\u001b[0;32m   1219\u001b[0m \u001b[43m    \u001b[49m\u001b[43mmode\u001b[49m\u001b[43m,\u001b[49m\n\u001b[0;32m   1220\u001b[0m \u001b[43m    \u001b[49m\u001b[43mencoding\u001b[49m\u001b[38;5;241;43m=\u001b[39;49m\u001b[38;5;28;43mself\u001b[39;49m\u001b[38;5;241;43m.\u001b[39;49m\u001b[43moptions\u001b[49m\u001b[38;5;241;43m.\u001b[39;49m\u001b[43mget\u001b[49m\u001b[43m(\u001b[49m\u001b[38;5;124;43m\"\u001b[39;49m\u001b[38;5;124;43mencoding\u001b[39;49m\u001b[38;5;124;43m\"\u001b[39;49m\u001b[43m,\u001b[49m\u001b[43m \u001b[49m\u001b[38;5;28;43;01mNone\u001b[39;49;00m\u001b[43m)\u001b[49m\u001b[43m,\u001b[49m\n\u001b[0;32m   1221\u001b[0m \u001b[43m    \u001b[49m\u001b[43mcompression\u001b[49m\u001b[38;5;241;43m=\u001b[39;49m\u001b[38;5;28;43mself\u001b[39;49m\u001b[38;5;241;43m.\u001b[39;49m\u001b[43moptions\u001b[49m\u001b[38;5;241;43m.\u001b[39;49m\u001b[43mget\u001b[49m\u001b[43m(\u001b[49m\u001b[38;5;124;43m\"\u001b[39;49m\u001b[38;5;124;43mcompression\u001b[39;49m\u001b[38;5;124;43m\"\u001b[39;49m\u001b[43m,\u001b[49m\u001b[43m \u001b[49m\u001b[38;5;28;43;01mNone\u001b[39;49;00m\u001b[43m)\u001b[49m\u001b[43m,\u001b[49m\n\u001b[0;32m   1222\u001b[0m \u001b[43m    \u001b[49m\u001b[43mmemory_map\u001b[49m\u001b[38;5;241;43m=\u001b[39;49m\u001b[38;5;28;43mself\u001b[39;49m\u001b[38;5;241;43m.\u001b[39;49m\u001b[43moptions\u001b[49m\u001b[38;5;241;43m.\u001b[39;49m\u001b[43mget\u001b[49m\u001b[43m(\u001b[49m\u001b[38;5;124;43m\"\u001b[39;49m\u001b[38;5;124;43mmemory_map\u001b[39;49m\u001b[38;5;124;43m\"\u001b[39;49m\u001b[43m,\u001b[49m\u001b[43m \u001b[49m\u001b[38;5;28;43;01mFalse\u001b[39;49;00m\u001b[43m)\u001b[49m\u001b[43m,\u001b[49m\n\u001b[0;32m   1223\u001b[0m \u001b[43m    \u001b[49m\u001b[43mis_text\u001b[49m\u001b[38;5;241;43m=\u001b[39;49m\u001b[43mis_text\u001b[49m\u001b[43m,\u001b[49m\n\u001b[0;32m   1224\u001b[0m \u001b[43m    \u001b[49m\u001b[43merrors\u001b[49m\u001b[38;5;241;43m=\u001b[39;49m\u001b[38;5;28;43mself\u001b[39;49m\u001b[38;5;241;43m.\u001b[39;49m\u001b[43moptions\u001b[49m\u001b[38;5;241;43m.\u001b[39;49m\u001b[43mget\u001b[49m\u001b[43m(\u001b[49m\u001b[38;5;124;43m\"\u001b[39;49m\u001b[38;5;124;43mencoding_errors\u001b[39;49m\u001b[38;5;124;43m\"\u001b[39;49m\u001b[43m,\u001b[49m\u001b[43m \u001b[49m\u001b[38;5;124;43m\"\u001b[39;49m\u001b[38;5;124;43mstrict\u001b[39;49m\u001b[38;5;124;43m\"\u001b[39;49m\u001b[43m)\u001b[49m\u001b[43m,\u001b[49m\n\u001b[0;32m   1225\u001b[0m \u001b[43m    \u001b[49m\u001b[43mstorage_options\u001b[49m\u001b[38;5;241;43m=\u001b[39;49m\u001b[38;5;28;43mself\u001b[39;49m\u001b[38;5;241;43m.\u001b[39;49m\u001b[43moptions\u001b[49m\u001b[38;5;241;43m.\u001b[39;49m\u001b[43mget\u001b[49m\u001b[43m(\u001b[49m\u001b[38;5;124;43m\"\u001b[39;49m\u001b[38;5;124;43mstorage_options\u001b[39;49m\u001b[38;5;124;43m\"\u001b[39;49m\u001b[43m,\u001b[49m\u001b[43m \u001b[49m\u001b[38;5;28;43;01mNone\u001b[39;49;00m\u001b[43m)\u001b[49m\u001b[43m,\u001b[49m\n\u001b[0;32m   1226\u001b[0m \u001b[43m\u001b[49m\u001b[43m)\u001b[49m\n\u001b[0;32m   1227\u001b[0m \u001b[38;5;28;01massert\u001b[39;00m \u001b[38;5;28mself\u001b[39m\u001b[38;5;241m.\u001b[39mhandles \u001b[38;5;129;01mis\u001b[39;00m \u001b[38;5;129;01mnot\u001b[39;00m \u001b[38;5;28;01mNone\u001b[39;00m\n\u001b[0;32m   1228\u001b[0m f \u001b[38;5;241m=\u001b[39m \u001b[38;5;28mself\u001b[39m\u001b[38;5;241m.\u001b[39mhandles\u001b[38;5;241m.\u001b[39mhandle\n",
      "File \u001b[1;32m~\\anaconda3\\lib\\site-packages\\pandas\\io\\common.py:789\u001b[0m, in \u001b[0;36mget_handle\u001b[1;34m(path_or_buf, mode, encoding, compression, memory_map, is_text, errors, storage_options)\u001b[0m\n\u001b[0;32m    784\u001b[0m \u001b[38;5;28;01melif\u001b[39;00m \u001b[38;5;28misinstance\u001b[39m(handle, \u001b[38;5;28mstr\u001b[39m):\n\u001b[0;32m    785\u001b[0m     \u001b[38;5;66;03m# Check whether the filename is to be opened in binary mode.\u001b[39;00m\n\u001b[0;32m    786\u001b[0m     \u001b[38;5;66;03m# Binary mode does not support 'encoding' and 'newline'.\u001b[39;00m\n\u001b[0;32m    787\u001b[0m     \u001b[38;5;28;01mif\u001b[39;00m ioargs\u001b[38;5;241m.\u001b[39mencoding \u001b[38;5;129;01mand\u001b[39;00m \u001b[38;5;124m\"\u001b[39m\u001b[38;5;124mb\u001b[39m\u001b[38;5;124m\"\u001b[39m \u001b[38;5;129;01mnot\u001b[39;00m \u001b[38;5;129;01min\u001b[39;00m ioargs\u001b[38;5;241m.\u001b[39mmode:\n\u001b[0;32m    788\u001b[0m         \u001b[38;5;66;03m# Encoding\u001b[39;00m\n\u001b[1;32m--> 789\u001b[0m         handle \u001b[38;5;241m=\u001b[39m \u001b[38;5;28;43mopen\u001b[39;49m\u001b[43m(\u001b[49m\n\u001b[0;32m    790\u001b[0m \u001b[43m            \u001b[49m\u001b[43mhandle\u001b[49m\u001b[43m,\u001b[49m\n\u001b[0;32m    791\u001b[0m \u001b[43m            \u001b[49m\u001b[43mioargs\u001b[49m\u001b[38;5;241;43m.\u001b[39;49m\u001b[43mmode\u001b[49m\u001b[43m,\u001b[49m\n\u001b[0;32m    792\u001b[0m \u001b[43m            \u001b[49m\u001b[43mencoding\u001b[49m\u001b[38;5;241;43m=\u001b[39;49m\u001b[43mioargs\u001b[49m\u001b[38;5;241;43m.\u001b[39;49m\u001b[43mencoding\u001b[49m\u001b[43m,\u001b[49m\n\u001b[0;32m    793\u001b[0m \u001b[43m            \u001b[49m\u001b[43merrors\u001b[49m\u001b[38;5;241;43m=\u001b[39;49m\u001b[43merrors\u001b[49m\u001b[43m,\u001b[49m\n\u001b[0;32m    794\u001b[0m \u001b[43m            \u001b[49m\u001b[43mnewline\u001b[49m\u001b[38;5;241;43m=\u001b[39;49m\u001b[38;5;124;43m\"\u001b[39;49m\u001b[38;5;124;43m\"\u001b[39;49m\u001b[43m,\u001b[49m\n\u001b[0;32m    795\u001b[0m \u001b[43m        \u001b[49m\u001b[43m)\u001b[49m\n\u001b[0;32m    796\u001b[0m     \u001b[38;5;28;01melse\u001b[39;00m:\n\u001b[0;32m    797\u001b[0m         \u001b[38;5;66;03m# Binary mode\u001b[39;00m\n\u001b[0;32m    798\u001b[0m         handle \u001b[38;5;241m=\u001b[39m \u001b[38;5;28mopen\u001b[39m(handle, ioargs\u001b[38;5;241m.\u001b[39mmode)\n",
      "\u001b[1;31mFileNotFoundError\u001b[0m: [Errno 2] No such file or directory: 'Mall_Customers.csv'"
     ]
    }
   ],
   "source": [
    "df = pd.read_csv('Mall_Customers.csv')\n",
    "df.head()"
   ]
  },
  {
   "cell_type": "code",
   "execution_count": null,
   "metadata": {
    "colab": {
     "base_uri": "https://localhost:8080/"
    },
    "id": "MqqV4tQ9MOTf",
    "outputId": "35747b57-d342-445c-b642-ca5dc02d9a33"
   },
   "outputs": [],
   "source": [
    "df.shape"
   ]
  },
  {
   "cell_type": "code",
   "execution_count": null,
   "metadata": {
    "colab": {
     "base_uri": "https://localhost:8080/"
    },
    "id": "l3IKRoMKMQZf",
    "outputId": "b85019b2-6a51-49a1-b8d6-bac33babd054"
   },
   "outputs": [],
   "source": [
    "df.columns"
   ]
  },
  {
   "cell_type": "code",
   "execution_count": null,
   "metadata": {
    "colab": {
     "base_uri": "https://localhost:8080/"
    },
    "id": "zMnP-mYfMR6v",
    "outputId": "8694935a-18c4-495a-ae6d-a276187e80a9"
   },
   "outputs": [],
   "source": [
    "df.info()"
   ]
  },
  {
   "cell_type": "code",
   "execution_count": null,
   "metadata": {
    "colab": {
     "base_uri": "https://localhost:8080/"
    },
    "id": "BApcMaTbMUFN",
    "outputId": "a33ca928-0d25-468e-e550-d12855634395"
   },
   "outputs": [],
   "source": [
    "df.isnull().sum()"
   ]
  },
  {
   "cell_type": "markdown",
   "metadata": {
    "id": "-C2VlORRMYpq"
   },
   "source": [
    "### Observation:\n",
    "- As there are no null values, no need to clean the dataset."
   ]
  },
  {
   "cell_type": "code",
   "execution_count": null,
   "metadata": {
    "colab": {
     "base_uri": "https://localhost:8080/",
     "height": 300
    },
    "id": "Ibem-j5zMWEW",
    "outputId": "3295a2a5-78d7-47ea-ccec-f888cef5c891"
   },
   "outputs": [],
   "source": [
    "df.describe()"
   ]
  },
  {
   "cell_type": "markdown",
   "metadata": {
    "id": "9yPXTgQRMfU8"
   },
   "source": [
    "### **Data exploration and visualization**"
   ]
  },
  {
   "cell_type": "code",
   "execution_count": null,
   "metadata": {
    "colab": {
     "base_uri": "https://localhost:8080/",
     "height": 1000
    },
    "id": "o-U9dsvoMd7o",
    "outputId": "371f509f-2269-42ef-d2b5-ee1af60ac681"
   },
   "outputs": [],
   "source": [
    "#Plot pairwise relationships between features in a dataset.\n",
    "#plt.figure(1, figsize=(16,10))\n",
    "sns.pairplot(data=df, hue='Gender')\n",
    "plt.show()"
   ]
  },
  {
   "cell_type": "code",
   "execution_count": null,
   "metadata": {
    "colab": {
     "base_uri": "https://localhost:8080/",
     "height": 388
    },
    "id": "uIiIwcQlMpwK",
    "outputId": "d61e67df-03d3-453c-d051-5fcb4cbacd70"
   },
   "outputs": [],
   "source": [
    "#Number of male vs female\n",
    "plt.figure(1, figsize=(4,4))\n",
    "sns.countplot(x='Gender', data=df)\n",
    "plt.show()"
   ]
  },
  {
   "cell_type": "code",
   "execution_count": null,
   "metadata": {
    "colab": {
     "base_uri": "https://localhost:8080/",
     "height": 367
    },
    "id": "uVhB4AMVMuYe",
    "outputId": "079e27f0-a594-4f7d-819e-2598b6c4e0a7"
   },
   "outputs": [],
   "source": [
    "#Distribution of Male & Female customers\n",
    "gender_counts = df['Gender'].value_counts()\n",
    "\n",
    "plt.figure(figsize=(4, 4))\n",
    "plt.pie(gender_counts, labels=gender_counts.index, autopct='%1.1f%%', startangle=90, colors=['skyblue', 'lightgreen'])\n",
    "plt.title('Distribution of Male and Female Customers')\n",
    "\n",
    "centre_circle = plt.Circle((0, 0), 0.70, fc='white')\n",
    "fig = plt.gcf()\n",
    "fig.gca().add_artist(centre_circle)\n",
    "\n",
    "plt.axis('equal')\n",
    "plt.show()"
   ]
  },
  {
   "cell_type": "code",
   "execution_count": null,
   "metadata": {
    "colab": {
     "base_uri": "https://localhost:8080/",
     "height": 999
    },
    "id": "o-9HKrrpMx0C",
    "outputId": "c63646c0-ec02-49df-e888-897eeb59d165"
   },
   "outputs": [],
   "source": [
    "#Distribution of numerical features (Age, Annual income & Spending score)\n",
    "\n",
    "plt.figure(1, figsize=(16,4))\n",
    "n = 0\n",
    "for x in ['Age', 'Annual Income (k$)', 'Spending Score (1-100)']:\n",
    "    n += 1\n",
    "    plt.subplot(1, 3, n)\n",
    "    plt.subplots_adjust(hspace=0.5 , wspace=0.5)\n",
    "    sns.distplot(df[x] , bins=10)\n",
    "    plt.title('Distplot of {}'.format(x))\n",
    "plt.show()"
   ]
  },
  {
   "cell_type": "code",
   "execution_count": null,
   "metadata": {
    "colab": {
     "base_uri": "https://localhost:8080/",
     "height": 410
    },
    "id": "Nh4_aXGKM0gq",
    "outputId": "005158b5-9d5a-4834-b306-23969a82d0b5"
   },
   "outputs": [],
   "source": [
    "plt.figure(figsize=(6,4))\n",
    "sns.boxplot(data=df[['Annual Income (k$)', 'Spending Score (1-100)', 'Age']], orient='h', palette='Set3')\n",
    "\n",
    "plt.title('Box Plot of Annual Income, Spending Score, and Age')\n",
    "plt.xlabel('Values')\n",
    "plt.ylabel('Variables')\n",
    "\n",
    "plt.show()"
   ]
  },
  {
   "cell_type": "code",
   "execution_count": null,
   "metadata": {
    "colab": {
     "base_uri": "https://localhost:8080/",
     "height": 525
    },
    "id": "t1HE59vqNj_z",
    "outputId": "48a8ea0c-94d9-4c9a-bca6-c5d71df3af10"
   },
   "outputs": [],
   "source": [
    "# \"Age\" VS \"Spending Score\"\n",
    "palette = sns.color_palette(\"dark\", as_cmap=True)\n",
    "sns.jointplot(x=\"Age\", y=\"Spending Score (1-100)\",data=df, kind='reg',height=5, color=palette[4],space=0)"
   ]
  },
  {
   "cell_type": "code",
   "execution_count": null,
   "metadata": {
    "colab": {
     "base_uri": "https://localhost:8080/",
     "height": 525
    },
    "id": "ZcDN7Ut6NpTR",
    "outputId": "e18125f5-682f-45ae-dada-b9fa5e0ae42b"
   },
   "outputs": [],
   "source": [
    "# \"Age\" VS \"Annual Income\"\n",
    "sns.jointplot(x=df[\"Age\"], y=df[\"Annual Income (k$)\"], kind='hex', color=palette[6],height=5,ratio=5,space=0)"
   ]
  },
  {
   "cell_type": "code",
   "execution_count": null,
   "metadata": {
    "colab": {
     "base_uri": "https://localhost:8080/",
     "height": 507
    },
    "id": "O_d6r6ggNtYS",
    "outputId": "44a49dab-122f-42f7-bbce-c7987ad7daa3"
   },
   "outputs": [],
   "source": [
    "# \"Spending Score\" VS \"Annual Income\"\n",
    "g = sns.JointGrid(data = df, height = 5, x = \"Annual Income (k$)\", y = \"Spending Score (1-100)\", space = 0.1)\n",
    "g.plot_joint(sns.kdeplot, fill = True, thresh = 0, color = palette[9])\n",
    "g.plot_marginals(sns.histplot, color = palette[9], alpha = 1, bins = 20);"
   ]
  },
  {
   "cell_type": "code",
   "execution_count": null,
   "metadata": {
    "colab": {
     "base_uri": "https://localhost:8080/",
     "height": 554
    },
    "id": "zWGoxsqFNxXh",
    "outputId": "5eb24e6b-6a03-42d0-8cc6-162f8743abec"
   },
   "outputs": [],
   "source": [
    "# Selecting only numerical columns\n",
    "numerical_df = df.select_dtypes(include=['int64', 'float64'])\n",
    "\n",
    "# Heatmap: visualizing the correlation between features\n",
    "plt.figure(figsize=(6, 4))\n",
    "heatmap = sns.heatmap(numerical_df.corr(), vmin=-1, vmax=1, annot=True, cmap='viridis')\n",
    "heatmap.set_title('Correlation Heatmap', fontdict={'fontsize':18}, pad=12);\n"
   ]
  },
  {
   "cell_type": "markdown",
   "metadata": {
    "id": "goozjDIGN70T"
   },
   "source": [
    "## **K-means:-**\n",
    "\n",
    "- Simplest and popular unsupervised machine learning algorithms.\n",
    "- A cluster refers to a collection of data points aggregated together because of certain similarities.\n",
    "- You’ll define a target number k, which refers to the number of centroids you need in the dataset. A centroid is the imaginary or real location representing the center of the cluster.\n",
    "- Every data point is allocated to each of the clusters through reducing the in-cluster sum of squares.\n",
    "- In other words, the K-means algorithm identifies k number of centroids, and then allocates every data point to the nearest cluster, while keeping the centroids as small as possible."
   ]
  },
  {
   "cell_type": "markdown",
   "metadata": {
    "id": "ifmWKg3wOPIh"
   },
   "source": [
    "## **Working of K-Means:-**\n",
    "- The K-means algorithm in data mining starts with a first group of randomly selected centroids.\n",
    "- These are used as the beginning points for every cluster.\n",
    "- Then performs iterative calculations to optimize the positions of the centroids.\n",
    "- It halts creating and optimizing clusters when either:\n",
    "    - The centroids have stabilized: there is no change in their values because the clustering has been successful.\n",
    "    - The defined number of iterations has been achieved."
   ]
  },
  {
   "cell_type": "markdown",
   "metadata": {
    "id": "UQ3gnaELOPL8"
   },
   "source": [
    "## **Finding Optimal K-value using Elbow method:-**\n",
    "\n",
    "- Here we plot the mean distance of every point toward its cluster center, as a function of the number of clusters.\n",
    "- Sometimes the plot has an arm shape, and the elbow would be the optimal K.\n",
    "    - wcss stands for: within cluster sum of square\n",
    "    - wcss: distance between each point and centroid in a cluster\n",
    "    - when we plot wcss with K-value plot looks like a elbow\n",
    "    - the no.of cluster increases, wcss value decreases\n",
    "    - wcss value is largest when k=1\n",
    "- here we are creating a loop to find optimal value of 'K' using elbow method"
   ]
  },
  {
   "cell_type": "markdown",
   "metadata": {
    "id": "e0GvLDgMOYNO"
   },
   "source": [
    "### **Creating a separate data frame, here we are extracting the last two for customer segmentation.**"
   ]
  },
  {
   "cell_type": "code",
   "execution_count": null,
   "metadata": {
    "id": "Hl-EM6ItN1iN"
   },
   "outputs": [],
   "source": [
    "from sklearn.cluster import KMeans\n",
    "from sklearn.metrics import silhouette_score"
   ]
  },
  {
   "cell_type": "code",
   "execution_count": null,
   "metadata": {
    "id": "kt0y10yeOeep"
   },
   "outputs": [],
   "source": [
    "#Perform clustering (optimizing K with the elbow method).\n",
    "#In order to simplify the problem, we start by keeping only the two last columns as features.\n",
    "X = df.iloc[:, -2:]"
   ]
  },
  {
   "cell_type": "code",
   "execution_count": null,
   "metadata": {
    "colab": {
     "base_uri": "https://localhost:8080/"
    },
    "id": "Q0j5kYL8OgFS",
    "outputId": "a380bb00-737b-470b-e22d-7df04a5b38dd"
   },
   "outputs": [],
   "source": [
    "#this iterates k-means for our data\n",
    "#here we are using initializer k-means++, which ensures smarter initialization of centroids and improves cluster quality\n",
    "#kmeans.inertia_: seggregates data points into cluster\n",
    "\n",
    "km_inertias, wcss = [], []\n",
    "\n",
    "for k in range(2, 11):\n",
    "    km = KMeans(n_clusters=k).fit(X)\n",
    "    km_inertias.append(km.inertia_)\n",
    "    wcss.append(silhouette_score(X, km.labels_))"
   ]
  },
  {
   "cell_type": "code",
   "execution_count": null,
   "metadata": {
    "colab": {
     "base_uri": "https://localhost:8080/",
     "height": 472
    },
    "id": "dVC8Cr7WOhlG",
    "outputId": "3d02b58b-ade6-457e-82ef-0e2565e09895"
   },
   "outputs": [],
   "source": [
    "sns.lineplot(x=range(2, 11), y=km_inertias)\n",
    "plt.title('The Elbow Method Graph')\n",
    "plt.xlabel('Number of Clusters (k$)')\n",
    "plt.ylabel('Wcss Values')\n",
    "plt.show()"
   ]
  },
  {
   "cell_type": "markdown",
   "metadata": {
    "id": "azgTDTlPOpbx"
   },
   "source": [
    "### Observation:\n",
    "- Plot reduces drastically from culter number 1 to 3.\n",
    "- Slows down till 5.\n",
    "- Flatens from 6 to 10.\n",
    "- We are getting elbow where k=5.\n",
    "- So, the optimal number of cluster will be 5."
   ]
  },
  {
   "cell_type": "code",
   "execution_count": null,
   "metadata": {
    "colab": {
     "base_uri": "https://localhost:8080/",
     "height": 472
    },
    "id": "cTjDsmauOr6A",
    "outputId": "01997a47-b9c4-4719-8b82-e6d47b5ccf77"
   },
   "outputs": [],
   "source": [
    "sns.lineplot(x=range(2, 11), y=wcss)\n",
    "plt.title('Scores Depending on K')\n",
    "plt.xlabel('Number of Clusters K')\n",
    "plt.ylabel('Silhouette Score')\n",
    "plt.show()"
   ]
  },
  {
   "cell_type": "code",
   "execution_count": null,
   "metadata": {
    "colab": {
     "base_uri": "https://localhost:8080/"
    },
    "id": "UDhVcKMTOt5M",
    "outputId": "39709bee-2fbd-4a84-ec50-b46ff0b7c02f"
   },
   "outputs": [],
   "source": [
    "for k, wcss in zip(range(2, 11), wcss):\n",
    "    print(f\"Silhouette Score for K={k}: {wcss}\")"
   ]
  },
  {
   "cell_type": "markdown",
   "metadata": {
    "id": "XPhyVB_AOz6o"
   },
   "source": [
    "### **Observation:**\n",
    "- Max Silhouette Score for K=5 is 0.553931997444648"
   ]
  },
  {
   "cell_type": "markdown",
   "metadata": {
    "id": "M4HZKH8eO48s"
   },
   "source": [
    "## **Training a model using K-Means Algorithm**"
   ]
  },
  {
   "cell_type": "code",
   "execution_count": null,
   "metadata": {
    "colab": {
     "base_uri": "https://localhost:8080/"
    },
    "id": "KRAkFlJeOwcS",
    "outputId": "f8ec4780-5a01-45dc-ffea-960ff46915e0"
   },
   "outputs": [],
   "source": [
    "km = KMeans(n_clusters=5).fit(X)"
   ]
  },
  {
   "cell_type": "code",
   "execution_count": null,
   "metadata": {
    "colab": {
     "base_uri": "https://localhost:8080/",
     "height": 564
    },
    "id": "kbj9DE7hO9nv",
    "outputId": "1fac00e5-6a7a-4f9f-cf2b-e271beca47bf"
   },
   "outputs": [],
   "source": [
    "# K-Means visualization on pair of 2 features\n",
    "\n",
    "plt.figure(figsize=(10, 6))\n",
    "\n",
    "sns.scatterplot(data=X.loc[km.labels_ == 0], x=X.columns[0], y=X.columns[1], s=80, color=\"darkblue\", label='Cluster-1')\n",
    "sns.scatterplot(data=X.loc[km.labels_ == 1], x=X.columns[0], y=X.columns[1], s=80, color=\"skyblue\", label='Cluster-2')\n",
    "sns.scatterplot(data=X.loc[km.labels_ == 2], x=X.columns[0], y=X.columns[1], s=80, color=\"purple\", label='Cluster-3')\n",
    "sns.scatterplot(data=X.loc[km.labels_ == 3], x=X.columns[0], y=X.columns[1], s=80, color=\"plum\", label='Cluster-4')\n",
    "sns.scatterplot(data=X.loc[km.labels_ == 4], x=X.columns[0], y=X.columns[1], s=80, color=\"gray\", label='Cluster-5')\n",
    "\n",
    "plt.scatter(km.cluster_centers_[:,0], km.cluster_centers_[:,1], s=100, c='black', label='Centroids')\n",
    "plt.title('Clusters of Customers')\n",
    "plt.xlabel('Annual Income (k$)')\n",
    "plt.ylabel('Spending Score (1-100)')\n",
    "plt.legend()\n",
    "plt.show()"
   ]
  },
  {
   "cell_type": "markdown",
   "metadata": {
    "id": "vmw2UhlwQdNq"
   },
   "source": [
    "### **Definition of customers profiles corresponding to each clusters**"
   ]
  },
  {
   "cell_type": "code",
   "execution_count": null,
   "metadata": {
    "id": "v8Z6J6G1PAp3"
   },
   "outputs": [],
   "source": [
    "# Profiles of customers\n",
    "X['label'] = km.labels_"
   ]
  },
  {
   "cell_type": "code",
   "execution_count": null,
   "metadata": {
    "colab": {
     "base_uri": "https://localhost:8080/"
    },
    "id": "RqVgr7g-QbLw",
    "outputId": "0d5da496-d63f-4b30-f1c7-50805fb3e3b0"
   },
   "outputs": [],
   "source": [
    "# Count of customers in each cluster\n",
    "X.label.value_counts()"
   ]
  },
  {
   "cell_type": "code",
   "execution_count": null,
   "metadata": {
    "colab": {
     "base_uri": "https://localhost:8080/"
    },
    "id": "Fz1hzX9oQiUS",
    "outputId": "e0f7c77b-9202-4e71-c82f-5439571e5e97"
   },
   "outputs": [],
   "source": [
    "# Cluster profiles\n",
    "for k in range(5):\n",
    "    print(f'Cluster Number : {k}')\n",
    "    print(X[X.label == k].describe().iloc[[0, 1, 3, 7], :-1])\n",
    "    print('\\n\\n')"
   ]
  },
  {
   "cell_type": "code",
   "execution_count": null,
   "metadata": {
    "colab": {
     "base_uri": "https://localhost:8080/",
     "height": 175
    },
    "id": "uF2GOJcJQkEx",
    "outputId": "d1fcc2ca-a81f-4ebe-9c96-aec1b9011aec"
   },
   "outputs": [],
   "source": [
    "# Specific cluster profile (for cluster 1)\n",
    "X[X.label == 1].describe().iloc[[0, 1, 3, 7], :-1]"
   ]
  },
  {
   "cell_type": "markdown",
   "metadata": {
    "id": "UQ6NvJOFQt3v"
   },
   "source": [
    "### **The generated \"Clusters of Customers\" plot shows the distribution of the 5 clusters. A sensible interpretation for the mall customer segments can be:**\n",
    "\n",
    "- **Cluster 0:**\n",
    "    - Customers in this cluster demonstrate a moderate annual income and a relatively high spending score.\n",
    "- **Cluster 1:**\n",
    "    - This group comprises customers with a relatively high annual income but a low spending score.\n",
    "- **Cluster 2:**\n",
    "    - Customers in this category exhibit a low annual income and a moderate spending score.\n",
    "- **Cluster 3:**\n",
    "    - This cluster consists of customers with a low annual income but a high spending score.    \n",
    "- **Cluster 4:**\n",
    "    - Customers in this segment display a moderate annual income and a moderate spending score."
   ]
  },
  {
   "cell_type": "markdown",
   "metadata": {
    "id": "YP0TfE5lQt-u"
   },
   "source": [
    "- Understanding these customer segments enables strategic decision-making. For example, identifying customers with high annual incomes but low spending scores suggests an opportunity for targeted marketing strategies to increase their spending habits and overall engagement. Additionally, maintaining customer satisfaction, especially among loyal customers, is essential for long-term success.\n",
    "\n"
   ]
  },
  {
   "cell_type": "markdown",
   "metadata": {
    "id": "I5UJGwuMQuC8"
   },
   "source": [
    "- This analysis showcases the capability of clustering algorithms to generate insightful recommendations. While this dataset only considers two variables (income and spending), incorporating additional variables can provide more precise and business-specific insights, further enhancing decision-making processes.\n"
   ]
  }
 ],
 "metadata": {
  "colab": {
   "provenance": []
  },
  "kernelspec": {
   "display_name": "Python 3 (ipykernel)",
   "language": "python",
   "name": "python3"
  },
  "language_info": {
   "codemirror_mode": {
    "name": "ipython",
    "version": 3
   },
   "file_extension": ".py",
   "mimetype": "text/x-python",
   "name": "python",
   "nbconvert_exporter": "python",
   "pygments_lexer": "ipython3",
   "version": "3.9.12"
  }
 },
 "nbformat": 4,
 "nbformat_minor": 1
}
